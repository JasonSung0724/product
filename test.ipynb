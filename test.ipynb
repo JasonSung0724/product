{
 "cells": [
  {
   "cell_type": "code",
   "execution_count": 2,
   "metadata": {},
   "outputs": [
    {
     "name": "stderr",
     "output_type": "stream",
     "text": [
      "\u001b[32m2025-09-23 22:42:28.815\u001b[0m | \u001b[1mINFO    \u001b[0m | \u001b[36mupdate\u001b[0m:\u001b[36mload_settings\u001b[0m:\u001b[36m39\u001b[0m - \u001b[1mConfig loaded from: ./config/account.json\u001b[0m\n",
      "\u001b[32m2025-09-23 22:42:30.833\u001b[0m | \u001b[32m\u001b[1mSUCCESS \u001b[0m | \u001b[36mupdate\u001b[0m:\u001b[36mrefresh\u001b[0m:\u001b[36m88\u001b[0m - \u001b[32m\u001b[1mToken refreshed\u001b[0m\n"
     ]
    }
   ],
   "source": [
    "from update import *\n",
    "\n",
    "api = ProductAPI()\n",
    "\n",
    "res = api.search_product(\"C0889001_S_172535475\")\n"
   ]
  },
  {
   "cell_type": "code",
   "execution_count": 43,
   "metadata": {},
   "outputs": [],
   "source": [
    "custom_field = {\"return_days\" : 1}\n",
    "payload = PayloadGenerator.build(res, custom_field=custom_field)\n",
    "data = res[\"data\"][0]"
   ]
  },
  {
   "cell_type": "code",
   "execution_count": 4,
   "metadata": {},
   "outputs": [
    {
     "data": {
      "text/plain": [
       "{'additional': {'hktv': {'primary_category_code': 'AA26653000001',\n",
       "   'return_days': '0'}}}"
      ]
     },
     "execution_count": 4,
     "metadata": {},
     "output_type": "execute_result"
    }
   ],
   "source": [
    "payload_data = payload[\"product\"]\n",
    "\n",
    "def check_diff(data1, data2, remain_data=None):\n",
    "    check = data1.copy() if remain_data is None else remain_data\n",
    "\n",
    "    for key, value in data1.items():\n",
    "        if key not in data2:\n",
    "            continue\n",
    "            \n",
    "        if type(value) not in [dict, list] and data1[key] == data2[key]:\n",
    "            check.pop(key)\n",
    "\n",
    "        elif isinstance(value, dict) and isinstance(data2[key], dict):\n",
    "            check[key] = check_diff(value, data2[key])\n",
    "            if not check[key]:\n",
    "                check.pop(key)\n",
    "        \n",
    "        elif isinstance(value, list) and isinstance(data2[key], list):\n",
    "            diff_list = [\n",
    "                item for item in value if item not in data2[key]\n",
    "            ]\n",
    "            if diff_list:\n",
    "                check[key] = diff_list\n",
    "            else:\n",
    "                check.pop(key)\n",
    "\n",
    "    return check\n",
    "\n",
    "check_diff(payload_data, data) "
   ]
  },
  {
   "cell_type": "code",
   "execution_count": 6,
   "metadata": {},
   "outputs": [],
   "source": [
    "from deepdiff import DeepDiff"
   ]
  },
  {
   "cell_type": "code",
   "execution_count": 44,
   "metadata": {},
   "outputs": [],
   "source": [
    "diff = DeepDiff(payload[\"product\"], data, ignore_numeric_type_changes=True, ignore_string_type_changes=True)\n"
   ]
  },
  {
   "cell_type": "code",
   "execution_count": 56,
   "metadata": {},
   "outputs": [
    {
     "data": {
      "text/plain": [
       "dict_keys(['dictionary_item_added', 'dictionary_item_removed', 'values_changed'])"
      ]
     },
     "execution_count": 56,
     "metadata": {},
     "output_type": "execute_result"
    }
   ],
   "source": [
    "diff.keys()"
   ]
  }
 ],
 "metadata": {
  "kernelspec": {
   "display_name": ".venv",
   "language": "python",
   "name": "python3"
  },
  "language_info": {
   "codemirror_mode": {
    "name": "ipython",
    "version": 3
   },
   "file_extension": ".py",
   "mimetype": "text/x-python",
   "name": "python",
   "nbconvert_exporter": "python",
   "pygments_lexer": "ipython3",
   "version": "3.9.22"
  }
 },
 "nbformat": 4,
 "nbformat_minor": 2
}
