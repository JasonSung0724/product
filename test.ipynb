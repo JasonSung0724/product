{
 "cells": [
  {
   "cell_type": "code",
   "execution_count": 5,
   "metadata": {},
   "outputs": [
    {
     "name": "stderr",
     "output_type": "stream",
     "text": [
      "\u001b[32m2025-07-10 20:45:28.833\u001b[0m | \u001b[32m\u001b[1mSUCCESS \u001b[0m | \u001b[36mupdate\u001b[0m:\u001b[36mget_token\u001b[0m:\u001b[36m103\u001b[0m - \u001b[32m\u001b[1mLogin successful!\u001b[0m\n"
     ]
    },
    {
     "data": {
      "text/plain": [
       "{'status': 1,\n",
       " 'data': [],\n",
       " 'errorMessageList': None,\n",
       " 'fail': False,\n",
       " 'success': True}"
      ]
     },
     "execution_count": 5,
     "metadata": {},
     "output_type": "execute_result"
    }
   ],
   "source": [
    "from update import *\n",
    "\n",
    "api = ProductAPI()\n",
    "api.search_product(\"C0134001_S_Zhediedeng_01\")"
   ]
  },
  {
   "cell_type": "code",
   "execution_count": 3,
   "metadata": {},
   "outputs": [
    {
     "data": {
      "text/plain": [
       "{'status': 1,\n",
       " 'data': [],\n",
       " 'errorMessageList': None,\n",
       " 'fail': False,\n",
       " 'success': True}"
      ]
     },
     "execution_count": 3,
     "metadata": {},
     "output_type": "execute_result"
    }
   ],
   "source": [
    "api.search_product(\"C0134001_S_Mazha_1\")"
   ]
  },
  {
   "cell_type": "code",
   "execution_count": null,
   "metadata": {},
   "outputs": [],
   "source": []
  }
 ],
 "metadata": {
  "kernelspec": {
   "display_name": "Python 3",
   "language": "python",
   "name": "python3"
  },
  "language_info": {
   "codemirror_mode": {
    "name": "ipython",
    "version": 3
   },
   "file_extension": ".py",
   "mimetype": "text/x-python",
   "name": "python",
   "nbconvert_exporter": "python",
   "pygments_lexer": "ipython3",
   "version": "3.9.9"
  }
 },
 "nbformat": 4,
 "nbformat_minor": 2
}
